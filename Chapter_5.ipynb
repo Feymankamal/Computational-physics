{
  "nbformat": 4,
  "nbformat_minor": 0,
  "metadata": {
    "colab": {
      "provenance": [],
      "toc_visible": true,
      "authorship_tag": "ABX9TyNvKdRsPYUcaE85mn36PkxF",
      "include_colab_link": true
    },
    "kernelspec": {
      "name": "python3",
      "display_name": "Python 3"
    },
    "language_info": {
      "name": "python"
    }
  },
  "cells": [
    {
      "cell_type": "markdown",
      "metadata": {
        "id": "view-in-github",
        "colab_type": "text"
      },
      "source": [
        "<a href=\"https://colab.research.google.com/github/Feymankamal/Computational-physics/blob/main/Chapter_5.ipynb\" target=\"_parent\"><img src=\"https://colab.research.google.com/assets/colab-badge.svg\" alt=\"Open In Colab\"/></a>"
      ]
    },
    {
      "cell_type": "markdown",
      "source": [
        "## Chapter 5    **Integrals and Derivatives**"
      ],
      "metadata": {
        "id": "Y5uo89UNaPWr"
      }
    },
    {
      "cell_type": "code",
      "execution_count": 1,
      "metadata": {
        "id": "JLEw-7e9ZhoN",
        "outputId": "8516e8fa-7d55-4517-f010-2ba0b5be59df",
        "colab": {
          "base_uri": "https://localhost:8080/"
        }
      },
      "outputs": [
        {
          "output_type": "stream",
          "name": "stdout",
          "text": [
            "Cloning into 'Computational-physics-'...\n",
            "remote: Enumerating objects: 36, done.\u001b[K\n",
            "remote: Counting objects: 100% (36/36), done.\u001b[K\n",
            "remote: Compressing objects: 100% (34/34), done.\u001b[K\n",
            "remote: Total 36 (delta 5), reused 0 (delta 0), pack-reused 0 (from 0)\u001b[K\n",
            "Receiving objects: 100% (36/36), 8.58 MiB | 5.34 MiB/s, done.\n",
            "Resolving deltas: 100% (5/5), done.\n"
          ]
        }
      ],
      "source": [
        "!git clone https://github.com/Feymankamal/Computational-physics-.git"
      ]
    },
    {
      "cell_type": "code",
      "source": [
        "import numpy as np\n",
        "import matplotlib.pyplot as plt"
      ],
      "metadata": {
        "id": "YVDk5QPvd0kr"
      },
      "execution_count": 5,
      "outputs": []
    },
    {
      "cell_type": "markdown",
      "source": [
        "# Trapezoidal rule\n",
        "For integrating the function f(x) from a to b with the **N** number of slices\n",
        "using trapezoidal rule\n",
        "$h=\\frac{(b-a)}{N}$\n",
        "\n",
        "$\\int_a ^b f(x) dx=h[\\frac{1}{2} f(a)+ \\frac{1}{2} f(b) +\\sum_{k=1} ^{N-1}f(a+kh)]$"
      ],
      "metadata": {
        "id": "_Dt6R8jtikhz"
      }
    },
    {
      "cell_type": "markdown",
      "source": [
        "## **Exercise 5.1**\n",
        "a)\n",
        "distance travelled is calculated as\n",
        "\n",
        "$d= \\int_{0}^{100} v(t) dt $\n",
        "\n",
        "$d=h(\\frac{1}{2}v(0)+\\frac{1}{2}v(100)+\\sum_{k=1}^{99} v(0+kh))$\n",
        "here value of h is"
      ],
      "metadata": {
        "id": "9l5gBICHpDX2"
      }
    },
    {
      "cell_type": "markdown",
      "source": [
        "Now load the data"
      ],
      "metadata": {
        "id": "tjOslRPpeALM"
      }
    },
    {
      "cell_type": "code",
      "source": [
        "%cd /content/Computational-physics-/data_files/"
      ],
      "metadata": {
        "id": "kIE2-m_uqel6",
        "outputId": "eec8dac8-9c54-4416-9e0c-33cc88fe9f3c",
        "colab": {
          "base_uri": "https://localhost:8080/"
        }
      },
      "execution_count": 2,
      "outputs": [
        {
          "output_type": "stream",
          "name": "stdout",
          "text": [
            "/content/Computational-physics-/data_files\n"
          ]
        }
      ]
    },
    {
      "cell_type": "code",
      "source": [
        "t,v=np.loadtxt('velocities.txt', skiprows=2, unpack=True)"
      ],
      "metadata": {
        "id": "6gflvfGis85l"
      },
      "execution_count": 6,
      "outputs": []
    },
    {
      "cell_type": "markdown",
      "source": [
        "here we loaded our text file 'velocities.txt'\n",
        "\n",
        "* numpy's loadtxt does not support strings as headers so that we skip all the rows with heading or lines for that we use **skiprows=2**\n",
        "* if we don't unpack it will not assign first element to t and second element to v"
      ],
      "metadata": {
        "id": "1OoKCVtrwbmk"
      }
    },
    {
      "cell_type": "code",
      "source": [
        "v"
      ],
      "metadata": {
        "id": "8o5MZcl1trq7",
        "colab": {
          "base_uri": "https://localhost:8080/"
        },
        "outputId": "dbc31b2d-cf26-4dee-84b9-d63581ba87bf"
      },
      "execution_count": 9,
      "outputs": [
        {
          "output_type": "execute_result",
          "data": {
            "text/plain": [
              "array([ 0.137694,  0.204332,  0.269083,  0.331656,  0.391771,  0.449167,\n",
              "        0.503598,  0.554835,  0.60267 ,  0.646912,  0.687392,  0.723961,\n",
              "        0.756491,  0.784876,  0.809032,  0.828897,  0.844428,  0.855608,\n",
              "        0.862439,  0.864945,  0.863172,  0.857184,  0.847067,  0.832926,\n",
              "        0.814882,  0.793077,  0.767666,  0.738824,  0.706736,  0.671603,\n",
              "        0.633638,  0.593065,  0.550118,  0.505039,  0.458077,  0.409488,\n",
              "        0.359533,  0.308474,  0.256576,  0.204107,  0.15133 ,  0.098509,\n",
              "        0.045905, -0.006228, -0.05764 , -0.108088, -0.157338, -0.205163,\n",
              "       -0.251347, -0.295685, -0.337984, -0.378064, -0.415757, -0.450909,\n",
              "       -0.483382, -0.513052, -0.539809, -0.563563, -0.584234, -0.601764,\n",
              "       -0.616107, -0.627235, -0.635136, -0.639814, -0.641289, -0.639596,\n",
              "       -0.634786, -0.626922, -0.616085, -0.602366, -0.585872, -0.56672 ,\n",
              "       -0.545039, -0.52097 , -0.494661, -0.466272, -0.43597 , -0.403929,\n",
              "       -0.37033 , -0.335357, -0.299201, -0.262054, -0.224114, -0.185575,\n",
              "       -0.146636, -0.107492, -0.068339, -0.02937 ,  0.009227,  0.047268,\n",
              "        0.084574,  0.12097 ,  0.15629 ,  0.190375,  0.223073,  0.254244,\n",
              "        0.283753,  0.311479,  0.337308])"
            ]
          },
          "metadata": {},
          "execution_count": 9
        }
      ]
    },
    {
      "cell_type": "code",
      "source": [
        "t"
      ],
      "metadata": {
        "colab": {
          "base_uri": "https://localhost:8080/"
        },
        "id": "ZtxjykJZf7fv",
        "outputId": "0d08dcac-cbb7-4764-ba83-b034834f444e"
      },
      "execution_count": 10,
      "outputs": [
        {
          "output_type": "execute_result",
          "data": {
            "text/plain": [
              "array([  2.,   3.,   4.,   5.,   6.,   7.,   8.,   9.,  10.,  11.,  12.,\n",
              "        13.,  14.,  15.,  16.,  17.,  18.,  19.,  20.,  21.,  22.,  23.,\n",
              "        24.,  25.,  26.,  27.,  28.,  29.,  30.,  31.,  32.,  33.,  34.,\n",
              "        35.,  36.,  37.,  38.,  39.,  40.,  41.,  42.,  43.,  44.,  45.,\n",
              "        46.,  47.,  48.,  49.,  50.,  51.,  52.,  53.,  54.,  55.,  56.,\n",
              "        57.,  58.,  59.,  60.,  61.,  62.,  63.,  64.,  65.,  66.,  67.,\n",
              "        68.,  69.,  70.,  71.,  72.,  73.,  74.,  75.,  76.,  77.,  78.,\n",
              "        79.,  80.,  81.,  82.,  83.,  84.,  85.,  86.,  87.,  88.,  89.,\n",
              "        90.,  91.,  92.,  93.,  94.,  95.,  96.,  97.,  98.,  99., 100.])"
            ]
          },
          "metadata": {},
          "execution_count": 10
        }
      ]
    },
    {
      "cell_type": "code",
      "source": [],
      "metadata": {
        "id": "o5uSQT6rgNbv"
      },
      "execution_count": null,
      "outputs": []
    }
  ]
}