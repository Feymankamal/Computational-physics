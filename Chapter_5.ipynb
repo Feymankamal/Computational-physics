{
  "nbformat": 4,
  "nbformat_minor": 0,
  "metadata": {
    "colab": {
      "provenance": [],
      "authorship_tag": "ABX9TyO51bJ2nB7Z2aa/RWSF98B0",
      "include_colab_link": true
    },
    "kernelspec": {
      "name": "python3",
      "display_name": "Python 3"
    },
    "language_info": {
      "name": "python"
    }
  },
  "cells": [
    {
      "cell_type": "markdown",
      "metadata": {
        "id": "view-in-github",
        "colab_type": "text"
      },
      "source": [
        "<a href=\"https://colab.research.google.com/github/Feymankamal/Computational-physics/blob/main/Chapter_5.ipynb\" target=\"_parent\"><img src=\"https://colab.research.google.com/assets/colab-badge.svg\" alt=\"Open In Colab\"/></a>"
      ]
    },
    {
      "cell_type": "markdown",
      "source": [
        "## Chapter 5    **Integrals and Derivatives**"
      ],
      "metadata": {
        "id": "Y5uo89UNaPWr"
      }
    },
    {
      "cell_type": "code",
      "execution_count": 12,
      "metadata": {
        "id": "JLEw-7e9ZhoN",
        "outputId": "f8c2995d-1b35-497c-cf8a-54c33a2cbf00",
        "colab": {
          "base_uri": "https://localhost:8080/"
        }
      },
      "outputs": [
        {
          "output_type": "stream",
          "name": "stdout",
          "text": [
            "Cloning into 'Computational-physics-'...\n",
            "remote: Enumerating objects: 39, done.\u001b[K\n",
            "remote: Counting objects: 100% (39/39), done.\u001b[K\n",
            "remote: Compressing objects: 100% (37/37), done.\u001b[K\n",
            "remote: Total 39 (delta 7), reused 0 (delta 0), pack-reused 0 (from 0)\u001b[K\n",
            "Receiving objects: 100% (39/39), 8.58 MiB | 5.27 MiB/s, done.\n",
            "Resolving deltas: 100% (7/7), done.\n"
          ]
        }
      ],
      "source": [
        "!git clone https://github.com/Feymankamal/Computational-physics-.git"
      ]
    },
    {
      "cell_type": "code",
      "source": [
        "import numpy as np\n",
        "import matplotlib.pyplot as plt"
      ],
      "metadata": {
        "id": "YVDk5QPvd0kr"
      },
      "execution_count": 5,
      "outputs": []
    },
    {
      "cell_type": "markdown",
      "source": [
        "# Trapezoidal rule\n",
        "For integrating the function f(x) from a to b with the **N** number of slices\n",
        "using trapezoidal rule\n",
        "$h=\\frac{(b-a)}{N}$\n",
        "\n",
        "$\\int_a ^b f(x) dx=h[\\frac{1}{2} f(a)+ \\frac{1}{2} f(b) +\\sum_{k=1} ^{N-1}f(a+kh)]$"
      ],
      "metadata": {
        "id": "_Dt6R8jtikhz"
      }
    },
    {
      "cell_type": "markdown",
      "source": [
        "## **Exercise 5.1**\n",
        "a)\n",
        "distance travelled is calculated as\n",
        "\n",
        "$d= \\int_{0}^{100} v(t) dt $\n",
        "\n",
        "$d=h(\\frac{1}{2}v(0)+\\frac{1}{2}v(100)+\\sum_{k=1}^{99} v(0+kh))$\n",
        "here value of h is"
      ],
      "metadata": {
        "id": "9l5gBICHpDX2"
      }
    },
    {
      "cell_type": "markdown",
      "source": [
        "Now load the data\n",
        "\n",
        "here h=1 that we can interpret from data file"
      ],
      "metadata": {
        "id": "tjOslRPpeALM"
      }
    },
    {
      "cell_type": "code",
      "source": [
        "%cd /content/Computational-physics-/data_files/"
      ],
      "metadata": {
        "id": "kIE2-m_uqel6",
        "outputId": "eec8dac8-9c54-4416-9e0c-33cc88fe9f3c",
        "colab": {
          "base_uri": "https://localhost:8080/"
        }
      },
      "execution_count": 2,
      "outputs": [
        {
          "output_type": "stream",
          "name": "stdout",
          "text": [
            "/content/Computational-physics-/data_files\n"
          ]
        }
      ]
    },
    {
      "cell_type": "code",
      "source": [
        "t,v=np.loadtxt('velocities.txt', unpack=True)"
      ],
      "metadata": {
        "id": "6gflvfGis85l"
      },
      "execution_count": 13,
      "outputs": []
    },
    {
      "cell_type": "code",
      "source": [
        "v.shape"
      ],
      "metadata": {
        "id": "yqSSUVkyjHu3",
        "outputId": "a53813a4-a1c8-4ec9-8132-ba2223bff434",
        "colab": {
          "base_uri": "https://localhost:8080/"
        }
      },
      "execution_count": 17,
      "outputs": [
        {
          "output_type": "execute_result",
          "data": {
            "text/plain": [
              "(101,)"
            ]
          },
          "metadata": {},
          "execution_count": 17
        }
      ]
    },
    {
      "cell_type": "markdown",
      "source": [
        "here we loaded our text file 'velocities.txt'\n",
        "\n",
        "* numpy's loadtxt does not support strings as headers so that we skip all the rows with heading or lines for that we use **skiprows=2**\n",
        "* if we don't unpack it will not assign first element to t and second element to v"
      ],
      "metadata": {
        "id": "1OoKCVtrwbmk"
      }
    },
    {
      "cell_type": "code",
      "source": [
        "h=1\n",
        "d1=0.5*v[0]+0.5*v[100]\n",
        "d2=0\n",
        "#use for loop for the summation\n",
        "for i in range(1,100):\n",
        "  d2+=v[i]\n",
        "#now add the results\n",
        "d=d1+d2\n",
        "print(f'distance travelled is {d}m')"
      ],
      "metadata": {
        "colab": {
          "base_uri": "https://localhost:8080/"
        },
        "id": "o5uSQT6rgNbv",
        "outputId": "a72cfc45-25d7-4e73-82f8-2591aefb3105"
      },
      "execution_count": 23,
      "outputs": [
        {
          "output_type": "stream",
          "name": "stdout",
          "text": [
            "distance travelled is 8.21892400000002m\n"
          ]
        }
      ]
    },
    {
      "cell_type": "code",
      "source": [
        "dt=[]\n",
        "#use for loop and add continuously the distance travelled\n",
        "for i in range(100):\n",
        "  v[i+1]-v[i]"
      ],
      "metadata": {
        "id": "rrsVs2gBymRY"
      },
      "execution_count": null,
      "outputs": []
    },
    {
      "cell_type": "markdown",
      "source": [
        "b) plot of **velocity** and **distance travelled** as function of time"
      ],
      "metadata": {
        "id": "uybIf6bbkR7e"
      }
    },
    {
      "cell_type": "code",
      "source": [
        "plt.plot(t,v,'g-',label='velocity')\n",
        "plt.axvline(color='grey')\n",
        "plt.axhline(color='grey')\n",
        "plt.legend(loc='upper right')\n",
        "plt.show()"
      ],
      "metadata": {
        "id": "pAI2CfXSjqpK",
        "outputId": "82c71ce8-f17d-473d-ec4b-7136b853e8eb",
        "colab": {
          "base_uri": "https://localhost:8080/",
          "height": 450
        }
      },
      "execution_count": 27,
      "outputs": [
        {
          "output_type": "display_data",
          "data": {
            "text/plain": [
              "<Figure size 640x480 with 1 Axes>"
            ],
            "image/png": "[encoded data removed]"
          },
          "metadata": {}
        }
      ]
    },
    {
      "cell_type": "code",
      "source": [],
      "metadata": {
        "id": "Qhrbwg_KmDF5"
      },
      "execution_count": null,
      "outputs": []
    }
  ]
}