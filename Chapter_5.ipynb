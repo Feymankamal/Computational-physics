{
  "nbformat": 4,
  "nbformat_minor": 0,
  "metadata": {
    "colab": {
      "provenance": [],
      "authorship_tag": "ABX9TyMj9IS7gQjQ/fMQboojxRob",
      "include_colab_link": true
    },
    "kernelspec": {
      "name": "python3",
      "display_name": "Python 3"
    },
    "language_info": {
      "name": "python"
    }
  },
  "cells": [
    {
      "cell_type": "markdown",
      "metadata": {
        "id": "view-in-github",
        "colab_type": "text"
      },
      "source": [
        "<a href=\"https://colab.research.google.com/github/Feymankamal/Computational-physics/blob/main/Chapter_5.ipynb\" target=\"_parent\"><img src=\"https://colab.research.google.com/assets/colab-badge.svg\" alt=\"Open In Colab\"/></a>"
      ]
    },
    {
      "cell_type": "markdown",
      "source": [
        "## Chapter 5    **Integrals and Derivatives**"
      ],
      "metadata": {
        "id": "Y5uo89UNaPWr"
      }
    },
    {
      "cell_type": "code",
      "execution_count": 3,
      "metadata": {
        "id": "JLEw-7e9ZhoN",
        "outputId": "ad5b5221-3f72-4840-adbd-fd3927c552f3",
        "colab": {
          "base_uri": "https://localhost:8080/"
        }
      },
      "outputs": [
        {
          "output_type": "stream",
          "name": "stdout",
          "text": [
            "Cloning into 'Computational-physics-'...\n",
            "remote: Enumerating objects: 33, done.\u001b[K\n",
            "remote: Counting objects: 100% (33/33), done.\u001b[K\n",
            "remote: Compressing objects: 100% (31/31), done.\u001b[K\n",
            "remote: Total 33 (delta 4), reused 0 (delta 0), pack-reused 0 (from 0)\u001b[K\n",
            "Receiving objects: 100% (33/33), 8.58 MiB | 5.24 MiB/s, done.\n",
            "Resolving deltas: 100% (4/4), done.\n"
          ]
        }
      ],
      "source": [
        "!git clone https://github.com/Feymankamal/Computational-physics-.git"
      ]
    },
    {
      "cell_type": "markdown",
      "source": [
        "# Trapezoidal rule\n",
        "For integrating the function f(x) from a to b with the **N** number of slices\n",
        "using trapezoidal rule\n",
        "$h=\\frac{(b-a)}{N}$\n",
        "\n",
        "$\\int_a ^b f(x) dx=h[\\frac{1}{2} f(a)+ \\frac{1}{2} f(b) +\\sum_{k=1} ^{N-1}f(a+kh)]$"
      ],
      "metadata": {
        "id": "_Dt6R8jtikhz"
      }
    },
    {
      "cell_type": "markdown",
      "source": [
        "**Exercise 5.1**\n",
        "\n",
        "distance travelled is calculated as\n",
        "\n",
        "d= $\\int_{0}^{100} v(t) dt $"
      ],
      "metadata": {
        "id": "9l5gBICHpDX2"
      }
    },
    {
      "cell_type": "code",
      "source": [
        "%cd /content/Computational-physics-/data_files/"
      ],
      "metadata": {
        "id": "kIE2-m_uqel6",
        "outputId": "4d60b2f9-3b37-48c0-8bc9-d2bd2df792bd",
        "colab": {
          "base_uri": "https://localhost:8080/"
        }
      },
      "execution_count": 6,
      "outputs": [
        {
          "output_type": "stream",
          "name": "stdout",
          "text": [
            "/content/Computational-physics-/data_files\n"
          ]
        }
      ]
    },
    {
      "cell_type": "code",
      "source": [
        "t,v=np.loadtxt('velocities.txt', skiprows=2, unpack=True)"
      ],
      "metadata": {
        "id": "6gflvfGis85l"
      },
      "execution_count": 20,
      "outputs": []
    },
    {
      "cell_type": "markdown",
      "source": [
        "here we loaded our text file 'velocities.txt'\n",
        "\n",
        "* numpy's loadtxt does not support strings as headers so that we skip all the rows with heading or lines for that we use **skiprows=2**\n",
        "* if we don't unpack it will not assign first element to t and second element to v"
      ],
      "metadata": {
        "id": "1OoKCVtrwbmk"
      }
    },
    {
      "cell_type": "code",
      "source": [],
      "metadata": {
        "id": "8o5MZcl1trq7"
      },
      "execution_count": null,
      "outputs": []
    }
  ]
}